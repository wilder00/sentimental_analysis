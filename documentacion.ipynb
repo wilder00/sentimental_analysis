{
 "cells": [
  {
   "cell_type": "markdown",
   "source": [
    "# PASO 1: Instalación  de las depedencias"
   ],
   "metadata": {}
  },
  {
   "cell_type": "code",
   "execution_count": 2,
   "source": [
    "# Tweepy: Librería para realizar llamados con el API de Twitter\r\n",
    "!pip install tweepy"
   ],
   "outputs": [
    {
     "output_type": "stream",
     "name": "stdout",
     "text": [
      "Requirement already satisfied: tweepy in c:\\users\\emilio gonzales\\appdata\\local\\programs\\python\\python39\\lib\\site-packages (3.10.0)\n",
      "Requirement already satisfied: requests-oauthlib>=0.7.0 in c:\\users\\emilio gonzales\\appdata\\local\\programs\\python\\python39\\lib\\site-packages (from tweepy) (1.3.0)\n",
      "Requirement already satisfied: six>=1.10.0 in c:\\users\\emilio gonzales\\appdata\\local\\programs\\python\\python39\\lib\\site-packages (from tweepy) (1.16.0)\n",
      "Requirement already satisfied: requests[socks]>=2.11.1 in c:\\users\\emilio gonzales\\appdata\\local\\programs\\python\\python39\\lib\\site-packages (from tweepy) (2.26.0)\n",
      "Requirement already satisfied: oauthlib>=3.0.0 in c:\\users\\emilio gonzales\\appdata\\local\\programs\\python\\python39\\lib\\site-packages (from requests-oauthlib>=0.7.0->tweepy) (3.1.1)\n",
      "Requirement already satisfied: charset-normalizer~=2.0.0 in c:\\users\\emilio gonzales\\appdata\\local\\programs\\python\\python39\\lib\\site-packages (from requests[socks]>=2.11.1->tweepy) (2.0.6)\n",
      "Requirement already satisfied: urllib3<1.27,>=1.21.1 in c:\\users\\emilio gonzales\\appdata\\local\\programs\\python\\python39\\lib\\site-packages (from requests[socks]>=2.11.1->tweepy) (1.26.6)\n",
      "Requirement already satisfied: certifi>=2017.4.17 in c:\\users\\emilio gonzales\\appdata\\local\\programs\\python\\python39\\lib\\site-packages (from requests[socks]>=2.11.1->tweepy) (2021.5.30)\n",
      "Requirement already satisfied: idna<4,>=2.5 in c:\\users\\emilio gonzales\\appdata\\local\\programs\\python\\python39\\lib\\site-packages (from requests[socks]>=2.11.1->tweepy) (3.2)\n",
      "Requirement already satisfied: PySocks!=1.5.7,>=1.5.6 in c:\\users\\emilio gonzales\\appdata\\local\\programs\\python\\python39\\lib\\site-packages (from requests[socks]>=2.11.1->tweepy) (1.7.1)\n"
     ]
    }
   ],
   "metadata": {}
  },
  {
   "cell_type": "code",
   "execution_count": 5,
   "source": [
    "# Pandas: Librería para gestionar los DataFrame\r\n",
    "!pip install pandas"
   ],
   "outputs": [],
   "metadata": {}
  },
  {
   "cell_type": "code",
   "execution_count": 6,
   "source": [
    "# Openpyxl: Librería para exportar la data en un archivo Excel\r\n",
    "!pip install openpyxl"
   ],
   "outputs": [
    {
     "output_type": "stream",
     "name": "stdout",
     "text": [
      "Requirement already satisfied: openpyxl in c:\\users\\emilio gonzales\\appdata\\local\\programs\\python\\python39\\lib\\site-packages (3.0.8)\n",
      "Requirement already satisfied: et-xmlfile in c:\\users\\emilio gonzales\\appdata\\local\\programs\\python\\python39\\lib\\site-packages (from openpyxl) (1.1.0)\n"
     ]
    }
   ],
   "metadata": {}
  },
  {
   "cell_type": "markdown",
   "source": [
    "# PASO 2: Importación de las dependencias"
   ],
   "metadata": {}
  },
  {
   "cell_type": "code",
   "execution_count": 3,
   "source": [
    "import tweepy\r\n",
    "import pandas as pd"
   ],
   "outputs": [],
   "metadata": {}
  },
  {
   "cell_type": "markdown",
   "source": [
    "# PASO 3: Declarar las variables de las credenciales del API de Twitter"
   ],
   "metadata": {}
  },
  {
   "cell_type": "code",
   "execution_count": 4,
   "source": [
    "consumer_key = '5FWJ8XfIYuPlG0rR9TqCH9v6P'\r\n",
    "consumer_secret = 'NkRer25IdOT3xRJbf4qbwzkid7v5MkG7fWcU6Fv7mZPUgUCXZ4'\r\n",
    "access_token = '1437815438679977989-JOrOdiwEP1rBzcuKu9WRav6ZAwvxtq'\r\n",
    "access_token_secret = 'TzjhoF9nCqCIJmlVNnDydSEYLetURLXlbIfjkfBMorNhb'"
   ],
   "outputs": [],
   "metadata": {}
  },
  {
   "cell_type": "markdown",
   "source": [
    "# PASO 4: Hacer uso de las credenciales de Twitter con la librería Tweepy"
   ],
   "metadata": {}
  },
  {
   "cell_type": "code",
   "execution_count": 5,
   "source": [
    "auth = tweepy.OAuthHandler(consumer_key, consumer_secret)\r\n",
    "auth.set_access_token(access_token, access_token_secret)\r\n",
    "api = tweepy.API(auth, wait_on_rate_limit=True)"
   ],
   "outputs": [],
   "metadata": {}
  },
  {
   "cell_type": "markdown",
   "source": [
    "# PASO 5: Declarar la función de \"buscar_tweets\""
   ],
   "metadata": {}
  },
  {
   "cell_type": "code",
   "execution_count": 6,
   "source": [
    "def buscar_tweets(palabra_clave):\r\n",
    "\r\n",
    "  tweet_df = pd.DataFrame(columns=['Datetime', 'Tweet', 'Username', 'Retweets', 'Followers'])\r\n",
    "\r\n",
    "  for tweet in tweepy.Cursor(api.search, q=palabra_clave, count=100, lang='es', tweet_mode='extended').items(50000):\r\n",
    "    \r\n",
    "      tweet_df = tweet_df.append({\r\n",
    "          'Datetime':tweet.created_at, \r\n",
    "          'Tweet':tweet.full_text,\r\n",
    "          'Username':tweet.user.screen_name, \r\n",
    "          'Retweets':tweet.retweet_count, \r\n",
    "          'Followers':tweet.user.followers_count},ignore_index=True)    \r\n",
    "          \r\n",
    "  return tweet_df "
   ],
   "outputs": [],
   "metadata": {}
  },
  {
   "cell_type": "markdown",
   "source": [
    "# PASO 6: Declarar la función de \"exportar_data\""
   ],
   "metadata": {}
  },
  {
   "cell_type": "code",
   "execution_count": 7,
   "source": [
    "def exportar_data(nombre, data):\r\n",
    "    # Escogemos el nombre del archivo\r\n",
    "    file_name = \"tweets_\"+nombre+\".xlsx\"\r\n",
    "\r\n",
    "    # Exportamos\r\n",
    "    data.to_excel(file_name)\r\n",
    "    print(\"La exportación de la data ha sido realizada correctamente\")"
   ],
   "outputs": [],
   "metadata": {}
  },
  {
   "cell_type": "markdown",
   "source": [
    "# PASO 7: \r\n",
    "Ejecutar la función \"buscar_tweets\" con la palabra clave \"@Minsa_Peru\" <br>\r\n",
    "Ejecutar la función \"buscar_tweets\" con la palabra clave \"covid\" <br>\r\n",
    "Ejecutar la función \"buscar_tweets\" con la palabra clave \"corona\" <br>\r\n",
    "Ejecutar la función \"buscar_tweets\" con la palabra clave \"ncov\" <br>\r\n",
    "Ejecutar la función \"buscar_tweets\" con la palabra clave \"ncov-19\" <br>\r\n",
    "Ejecutar la función \"buscar_tweets\" con la palabra clave \"covid-19\" <br>\r\n",
    "Ejecutar la función \"buscar_tweets\" con la palabra clave \"pandemia\" <br>\r\n",
    "Ejecutar la función \"buscar_tweets\" con la palabra clave \"cuarentena\""
   ],
   "metadata": {}
  },
  {
   "cell_type": "code",
   "execution_count": 79,
   "source": [
    "df = buscar_tweets(\"@Minsa_Peru\")\r\n",
    "\r\n",
    "exportar_data(\"Minsa_Peru\", df)"
   ],
   "outputs": [],
   "metadata": {}
  },
  {
   "cell_type": "code",
   "execution_count": 8,
   "source": [
    "df = buscar_tweets(\"covid\")\r\n",
    "\r\n",
    "exportar_data(\"covid\", df)"
   ],
   "outputs": [
    {
     "output_type": "stream",
     "name": "stdout",
     "text": [
      "La exportación de la data ha sido realizada correctamente\n"
     ]
    }
   ],
   "metadata": {}
  },
  {
   "cell_type": "code",
   "execution_count": 9,
   "source": [
    "df = buscar_tweets(\"corona\")\r\n",
    "\r\n",
    "exportar_data(\"corona\", df)"
   ],
   "outputs": [
    {
     "output_type": "stream",
     "name": "stdout",
     "text": [
      "La exportación de la data ha sido realizada correctamente\n"
     ]
    }
   ],
   "metadata": {}
  },
  {
   "cell_type": "code",
   "execution_count": 10,
   "source": [
    "df = buscar_tweets(\"ncov\")\r\n",
    "\r\n",
    "exportar_data(\"ncov\", df)"
   ],
   "outputs": [
    {
     "output_type": "stream",
     "name": "stdout",
     "text": [
      "La exportación de la data ha sido realizada correctamente\n"
     ]
    }
   ],
   "metadata": {}
  },
  {
   "cell_type": "code",
   "execution_count": 11,
   "source": [
    "df = buscar_tweets(\"ncov-19\")\r\n",
    "\r\n",
    "exportar_data(\"ncov-19\", df)"
   ],
   "outputs": [
    {
     "output_type": "stream",
     "name": "stdout",
     "text": [
      "La exportación de la data ha sido realizada correctamente\n"
     ]
    }
   ],
   "metadata": {}
  },
  {
   "cell_type": "code",
   "execution_count": 12,
   "source": [
    "df = buscar_tweets(\"covid-19\")\r\n",
    "\r\n",
    "exportar_data(\"covid-19\", df)"
   ],
   "outputs": [
    {
     "output_type": "stream",
     "name": "stdout",
     "text": [
      "La exportación de la data ha sido realizada correctamente\n"
     ]
    }
   ],
   "metadata": {}
  },
  {
   "cell_type": "code",
   "execution_count": 13,
   "source": [
    "df = buscar_tweets(\"pandemia\")\r\n",
    "\r\n",
    "exportar_data(\"pandemia\", df)"
   ],
   "outputs": [
    {
     "output_type": "stream",
     "name": "stdout",
     "text": [
      "La exportación de la data ha sido realizada correctamente\n"
     ]
    }
   ],
   "metadata": {}
  },
  {
   "cell_type": "code",
   "execution_count": 14,
   "source": [
    "df = buscar_tweets(\"cuarentena\")\r\n",
    "\r\n",
    "exportar_data(\"cuarentena\", df)"
   ],
   "outputs": [
    {
     "output_type": "stream",
     "name": "stdout",
     "text": [
      "La exportación de la data ha sido realizada correctamente\n"
     ]
    }
   ],
   "metadata": {}
  }
 ],
 "metadata": {
  "orig_nbformat": 4,
  "language_info": {
   "name": "python",
   "version": "3.9.7",
   "mimetype": "text/x-python",
   "codemirror_mode": {
    "name": "ipython",
    "version": 3
   },
   "pygments_lexer": "ipython3",
   "nbconvert_exporter": "python",
   "file_extension": ".py"
  },
  "kernelspec": {
   "name": "python3",
   "display_name": "Python 3.9.7 64-bit"
  },
  "interpreter": {
   "hash": "df388f54dcf6c7cff4e8a7d096a2e51370051ffca6659f6c51891b11891dabbe"
  }
 },
 "nbformat": 4,
 "nbformat_minor": 2
}